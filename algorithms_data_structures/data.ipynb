{
 "cells": [
  {
   "attachments": {},
   "cell_type": "markdown",
   "metadata": {},
   "source": [
    "# Data Structures using python"
   ]
  },
  {
   "cell_type": "code",
   "execution_count": 1,
   "metadata": {},
   "outputs": [
    {
     "name": "stdout",
     "output_type": "stream",
     "text": [
      "<class 'int'>\n",
      "<class 'float'>\n",
      "<class 'str'>\n",
      "<class 'bool'>\n",
      "<class 'list'>\n",
      "<class 'tuple'>\n",
      "<class 'dict'>\n",
      "<class 'set'>\n",
      "<class 'NoneType'>\n",
      "<class 'type'>\n"
     ]
    }
   ],
   "source": [
    "print(type(1))\n",
    "print(type(1.0))\n",
    "print(type(\"1\"))\n",
    "print(type(True))\n",
    "print(type([])) # list\n",
    "print(type(())) # tuple\n",
    "print(type({})) # dict\n",
    "print(type(set())) # set\n",
    "thisset = {\"apple\", \"banana\", \"cherry\"} # set\n",
    "print(type(thisset))\n",
    "print(type(None))\n",
    "print(type(type(1))) # type"
   ]
  },
  {
   "cell_type": "code",
   "execution_count": 1,
   "metadata": {},
   "outputs": [
    {
     "name": "stdout",
     "output_type": "stream",
     "text": [
      "<class 'collections.deque'>\n",
      "<class 'collections.defaultdict'>\n",
      "<class 'collections.OrderedDict'>\n",
      "<class 'collections.Counter'>\n",
      "<class 'type'>\n"
     ]
    }
   ],
   "source": [
    "from collections import deque, defaultdict, OrderedDict, Counter, namedtuple\n",
    "\n",
    "print(type(deque())) # deque\n",
    "print(type(defaultdict())) # defaultdict\n",
    "print(type(OrderedDict())) # OrderedDict\n",
    "print(type(Counter())) # Counter\n",
    "print(type(namedtuple(\"Point\", [\"x\", \"y\"]))) # namedtuple"
   ]
  },
  {
   "cell_type": "code",
   "execution_count": null,
   "metadata": {},
   "outputs": [],
   "source": []
  }
 ],
 "metadata": {
  "kernelspec": {
   "display_name": ".ML",
   "language": "python",
   "name": "python3"
  },
  "language_info": {
   "codemirror_mode": {
    "name": "ipython",
    "version": 3
   },
   "file_extension": ".py",
   "mimetype": "text/x-python",
   "name": "python",
   "nbconvert_exporter": "python",
   "pygments_lexer": "ipython3",
   "version": "3.9.16"
  },
  "orig_nbformat": 4
 },
 "nbformat": 4,
 "nbformat_minor": 2
}
